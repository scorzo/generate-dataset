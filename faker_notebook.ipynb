{
  "nbformat": 4,
  "nbformat_minor": 0,
  "metadata": {
    "colab": {
      "provenance": [],
      "authorship_tag": "ABX9TyNIVcfx/Q0m1j+jkUTm7x75",
      "include_colab_link": true
    },
    "kernelspec": {
      "name": "python3",
      "display_name": "Python 3"
    },
    "language_info": {
      "name": "python"
    }
  },
  "cells": [
    {
      "cell_type": "markdown",
      "metadata": {
        "id": "view-in-github",
        "colab_type": "text"
      },
      "source": [
        "<a href=\"https://colab.research.google.com/github/scorzo/generate-dataset/blob/main/faker_notebook.ipynb\" target=\"_parent\"><img src=\"https://colab.research.google.com/assets/colab-badge.svg\" alt=\"Open In Colab\"/></a>"
      ]
    },
    {
      "cell_type": "code",
      "execution_count": null,
      "metadata": {
        "id": "UDcXeGEQmljn"
      },
      "outputs": [],
      "source": [
        "!pip install transformers\n",
        "!pip install faker\n"
      ]
    },
    {
      "cell_type": "code",
      "source": [
        "from transformers import GPT2LMHeadModel, GPT2Tokenizer\n",
        "import torch\n",
        "import pandas as pd\n",
        "import random\n",
        "from faker import Faker\n",
        "\n",
        "# Initialize Faker for synthetic date and issue ID generation\n",
        "fake = Faker()\n",
        "\n",
        "# Load pre-trained GPT-2 model and tokenizer\n",
        "tokenizer = GPT2Tokenizer.from_pretrained(\"gpt2\")\n",
        "model = GPT2LMHeadModel.from_pretrained(\"gpt2\")\n",
        "\n",
        "# Function to generate text using GPT-2\n",
        "def generate_text(prompt, max_length=100):\n",
        "    inputs = tokenizer.encode(prompt, return_tensors=\"pt\")\n",
        "    outputs = model.generate(inputs, max_length=max_length, num_return_sequences=1)\n",
        "    text = tokenizer.decode(outputs[0], skip_special_tokens=True)\n",
        "    return text[len(prompt):].strip()\n",
        "\n",
        "# Categories and seeds for generating data\n",
        "categories = {\n",
        "    \"Server Downtime\": [\"diagnosing server crash\", \"resolving server unresponsiveness\"],\n",
        "    \"Database Connectivity Issues\": [\"fixing database connection errors\", \"optimizing slow database queries\"],\n",
        "    \"SSL/TLS Certificate Problems\": [\"renewing SSL certificate\", \"solving SSL handshake failures\"]\n",
        "}\n",
        "\n",
        "# Generate synthetic data\n",
        "records = []\n",
        "for _ in range(3000):\n",
        "    category = random.choice(list(categories.keys()))\n",
        "    seed = random.choice(categories[category])\n",
        "    issue_summary = generate_text(f\"Summarize a typical issue related to {seed}\")\n",
        "    steps = generate_text(f\"Steps to reproduce the issue: {issue_summary}\")\n",
        "    resolution = generate_text(f\"Propose a resolution for the issue: {issue_summary}\")\n",
        "    record = {\n",
        "        \"issue_id\": fake.unique.uuid4(),\n",
        "        \"date_and_time\": fake.date_time_this_year().strftime(\"%Y-%m-%d %H:%M:%S\"),\n",
        "        \"category\": category,\n",
        "        \"issue_summary\": issue_summary,\n",
        "        \"steps_to_reproduce\": steps,\n",
        "        \"resolution\": resolution\n",
        "    }\n",
        "    records.append(record)\n",
        "\n",
        "# Convert to DataFrame for easier handling\n",
        "df = pd.DataFrame(records)\n",
        "\n",
        "# Display the first few records\n",
        "df.head()\n"
      ],
      "metadata": {
        "id": "ClH6t-fPmqYI"
      },
      "execution_count": null,
      "outputs": []
    },
    {
      "cell_type": "code",
      "source": [
        "# File path for the CSV file in Google Colab\n",
        "csv_file_path = '/content/synthetic_technical_support_data.csv'\n",
        "\n",
        "# Write the DataFrame to a CSV file\n",
        "df.to_csv(csv_file_path, index=False)\n",
        "\n",
        "print(f\"Data written to {csv_file_path}\")\n"
      ],
      "metadata": {
        "id": "5m6of1CMAZCI"
      },
      "execution_count": null,
      "outputs": []
    }
  ]
}